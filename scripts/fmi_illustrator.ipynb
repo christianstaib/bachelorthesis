{
 "cells": [
  {
   "cell_type": "code",
   "execution_count": 6,
   "metadata": {},
   "outputs": [
    {
     "name": "stdout",
     "output_type": "stream",
     "text": [
      "Requirement already satisfied: pandas in /home/christianstaib/Documents/git/bachelorthesis/.venv/lib64/python3.12/site-packages (2.2.2)\n",
      "Requirement already satisfied: numpy>=1.26.0 in /home/christianstaib/Documents/git/bachelorthesis/.venv/lib64/python3.12/site-packages (from pandas) (1.26.4)\n",
      "Requirement already satisfied: python-dateutil>=2.8.2 in /home/christianstaib/Documents/git/bachelorthesis/.venv/lib64/python3.12/site-packages (from pandas) (2.9.0.post0)\n",
      "Requirement already satisfied: pytz>=2020.1 in /home/christianstaib/Documents/git/bachelorthesis/.venv/lib64/python3.12/site-packages (from pandas) (2024.1)\n",
      "Requirement already satisfied: tzdata>=2022.7 in /home/christianstaib/Documents/git/bachelorthesis/.venv/lib64/python3.12/site-packages (from pandas) (2024.1)\n",
      "Requirement already satisfied: six>=1.5 in /home/christianstaib/Documents/git/bachelorthesis/.venv/lib64/python3.12/site-packages (from python-dateutil>=2.8.2->pandas) (1.16.0)\n",
      "Requirement already satisfied: numpy in /home/christianstaib/Documents/git/bachelorthesis/.venv/lib64/python3.12/site-packages (1.26.4)\n",
      "Requirement already satisfied: tqdm in /home/christianstaib/Documents/git/bachelorthesis/.venv/lib64/python3.12/site-packages (4.66.4)\n",
      "Requirement already satisfied: matplotlib in /home/christianstaib/Documents/git/bachelorthesis/.venv/lib64/python3.12/site-packages (3.9.0)\n",
      "Requirement already satisfied: contourpy>=1.0.1 in /home/christianstaib/Documents/git/bachelorthesis/.venv/lib64/python3.12/site-packages (from matplotlib) (1.2.1)\n",
      "Requirement already satisfied: cycler>=0.10 in /home/christianstaib/Documents/git/bachelorthesis/.venv/lib64/python3.12/site-packages (from matplotlib) (0.12.1)\n",
      "Requirement already satisfied: fonttools>=4.22.0 in /home/christianstaib/Documents/git/bachelorthesis/.venv/lib64/python3.12/site-packages (from matplotlib) (4.53.0)\n",
      "Requirement already satisfied: kiwisolver>=1.3.1 in /home/christianstaib/Documents/git/bachelorthesis/.venv/lib64/python3.12/site-packages (from matplotlib) (1.4.5)\n",
      "Requirement already satisfied: numpy>=1.23 in /home/christianstaib/Documents/git/bachelorthesis/.venv/lib64/python3.12/site-packages (from matplotlib) (1.26.4)\n",
      "Requirement already satisfied: packaging>=20.0 in /home/christianstaib/Documents/git/bachelorthesis/.venv/lib64/python3.12/site-packages (from matplotlib) (24.0)\n",
      "Requirement already satisfied: pillow>=8 in /home/christianstaib/Documents/git/bachelorthesis/.venv/lib64/python3.12/site-packages (from matplotlib) (10.3.0)\n",
      "Requirement already satisfied: pyparsing>=2.3.1 in /home/christianstaib/Documents/git/bachelorthesis/.venv/lib64/python3.12/site-packages (from matplotlib) (3.1.2)\n",
      "Requirement already satisfied: python-dateutil>=2.7 in /home/christianstaib/Documents/git/bachelorthesis/.venv/lib64/python3.12/site-packages (from matplotlib) (2.9.0.post0)\n",
      "Requirement already satisfied: six>=1.5 in /home/christianstaib/Documents/git/bachelorthesis/.venv/lib64/python3.12/site-packages (from python-dateutil>=2.7->matplotlib) (1.16.0)\n",
      "Requirement already satisfied: networkx in /home/christianstaib/Documents/git/bachelorthesis/.venv/lib64/python3.12/site-packages (3.3)\n",
      "Requirement already satisfied: datashader in /home/christianstaib/Documents/git/bachelorthesis/.venv/lib64/python3.12/site-packages (0.16.2)\n",
      "Requirement already satisfied: colorcet in /home/christianstaib/Documents/git/bachelorthesis/.venv/lib64/python3.12/site-packages (from datashader) (3.1.0)\n",
      "Requirement already satisfied: dask in /home/christianstaib/Documents/git/bachelorthesis/.venv/lib64/python3.12/site-packages (from datashader) (2024.5.2)\n",
      "Requirement already satisfied: multipledispatch in /home/christianstaib/Documents/git/bachelorthesis/.venv/lib64/python3.12/site-packages (from datashader) (1.0.0)\n",
      "Requirement already satisfied: numba in /home/christianstaib/Documents/git/bachelorthesis/.venv/lib64/python3.12/site-packages (from datashader) (0.59.1)\n",
      "Requirement already satisfied: numpy in /home/christianstaib/Documents/git/bachelorthesis/.venv/lib64/python3.12/site-packages (from datashader) (1.26.4)\n",
      "Requirement already satisfied: pandas in /home/christianstaib/Documents/git/bachelorthesis/.venv/lib64/python3.12/site-packages (from datashader) (2.2.2)\n",
      "Requirement already satisfied: param in /home/christianstaib/Documents/git/bachelorthesis/.venv/lib64/python3.12/site-packages (from datashader) (2.1.0)\n",
      "Requirement already satisfied: pillow in /home/christianstaib/Documents/git/bachelorthesis/.venv/lib64/python3.12/site-packages (from datashader) (10.3.0)\n",
      "Requirement already satisfied: pyct in /home/christianstaib/Documents/git/bachelorthesis/.venv/lib64/python3.12/site-packages (from datashader) (0.5.0)\n",
      "Requirement already satisfied: requests in /home/christianstaib/Documents/git/bachelorthesis/.venv/lib64/python3.12/site-packages (from datashader) (2.32.3)\n",
      "Requirement already satisfied: scipy in /home/christianstaib/Documents/git/bachelorthesis/.venv/lib64/python3.12/site-packages (from datashader) (1.13.1)\n",
      "Requirement already satisfied: toolz in /home/christianstaib/Documents/git/bachelorthesis/.venv/lib64/python3.12/site-packages (from datashader) (0.12.1)\n",
      "Requirement already satisfied: xarray in /home/christianstaib/Documents/git/bachelorthesis/.venv/lib64/python3.12/site-packages (from datashader) (2024.5.0)\n",
      "Requirement already satisfied: click>=8.1 in /home/christianstaib/Documents/git/bachelorthesis/.venv/lib64/python3.12/site-packages (from dask->datashader) (8.1.7)\n",
      "Requirement already satisfied: cloudpickle>=1.5.0 in /home/christianstaib/Documents/git/bachelorthesis/.venv/lib64/python3.12/site-packages (from dask->datashader) (3.0.0)\n",
      "Requirement already satisfied: fsspec>=2021.09.0 in /home/christianstaib/Documents/git/bachelorthesis/.venv/lib64/python3.12/site-packages (from dask->datashader) (2024.5.0)\n",
      "Requirement already satisfied: packaging>=20.0 in /home/christianstaib/Documents/git/bachelorthesis/.venv/lib64/python3.12/site-packages (from dask->datashader) (24.0)\n",
      "Requirement already satisfied: partd>=1.2.0 in /home/christianstaib/Documents/git/bachelorthesis/.venv/lib64/python3.12/site-packages (from dask->datashader) (1.4.2)\n",
      "Requirement already satisfied: pyyaml>=5.3.1 in /home/christianstaib/Documents/git/bachelorthesis/.venv/lib64/python3.12/site-packages (from dask->datashader) (6.0.1)\n",
      "Requirement already satisfied: llvmlite<0.43,>=0.42.0dev0 in /home/christianstaib/Documents/git/bachelorthesis/.venv/lib64/python3.12/site-packages (from numba->datashader) (0.42.0)\n",
      "Requirement already satisfied: python-dateutil>=2.8.2 in /home/christianstaib/Documents/git/bachelorthesis/.venv/lib64/python3.12/site-packages (from pandas->datashader) (2.9.0.post0)\n",
      "Requirement already satisfied: pytz>=2020.1 in /home/christianstaib/Documents/git/bachelorthesis/.venv/lib64/python3.12/site-packages (from pandas->datashader) (2024.1)\n",
      "Requirement already satisfied: tzdata>=2022.7 in /home/christianstaib/Documents/git/bachelorthesis/.venv/lib64/python3.12/site-packages (from pandas->datashader) (2024.1)\n",
      "Requirement already satisfied: charset-normalizer<4,>=2 in /home/christianstaib/Documents/git/bachelorthesis/.venv/lib64/python3.12/site-packages (from requests->datashader) (3.3.2)\n",
      "Requirement already satisfied: idna<4,>=2.5 in /home/christianstaib/Documents/git/bachelorthesis/.venv/lib64/python3.12/site-packages (from requests->datashader) (3.7)\n",
      "Requirement already satisfied: urllib3<3,>=1.21.1 in /home/christianstaib/Documents/git/bachelorthesis/.venv/lib64/python3.12/site-packages (from requests->datashader) (2.2.1)\n",
      "Requirement already satisfied: certifi>=2017.4.17 in /home/christianstaib/Documents/git/bachelorthesis/.venv/lib64/python3.12/site-packages (from requests->datashader) (2024.6.2)\n",
      "Requirement already satisfied: locket in /home/christianstaib/Documents/git/bachelorthesis/.venv/lib64/python3.12/site-packages (from partd>=1.2.0->dask->datashader) (1.0.0)\n",
      "Requirement already satisfied: six>=1.5 in /home/christianstaib/Documents/git/bachelorthesis/.venv/lib64/python3.12/site-packages (from python-dateutil>=2.8.2->pandas->datashader) (1.16.0)\n"
     ]
    }
   ],
   "source": [
    "!pip install pandas\n",
    "!pip install numpy\n",
    "!pip install tqdm\n",
    "!pip install matplotlib\n",
    "!pip install networkx\n",
    "!pip install datashader\n",
    "import numpy as np\n",
    "import pandas as pd\n",
    "import networkx as nx\n",
    "import numpy as np\n",
    "from tqdm import tqdm\n",
    "import matplotlib.pyplot as plt\n",
    "import datashader as ds\n",
    "import os\n",
    "\n",
    "plt.rcParams[\"figure.dpi\"] = 300"
   ]
  },
  {
   "cell_type": "code",
   "execution_count": 7,
   "metadata": {},
   "outputs": [],
   "source": [
    "\n",
    "def get_vertices(f_path):\n",
    "    f = open(f_path, \"r\")\n",
    "\n",
    "    skip_rows = 3\n",
    "\n",
    "    # skip blank lines\n",
    "    while f.readline().startswith(\"#\"):\n",
    "        skip_rows += 1\n",
    "\n",
    "    num_vertices = int(f.readline())\n",
    "    num_edges = int(f.readline())\n",
    "\n",
    "    skip_rows, num_vertices, num_edges\n",
    "\n",
    "    vertices = np.loadtxt(f_path, dtype=(np.float32, np.float32), skiprows=skip_rows, max_rows=num_vertices, usecols=[2, 3])\n",
    "\n",
    "    return vertices\n"
   ]
  },
  {
   "cell_type": "code",
   "execution_count": 8,
   "metadata": {},
   "outputs": [],
   "source": [
    "def make_plot(vertices):\n",
    "    # Plot the points\n",
    "    # plt.figure(figsize=(8, 6))\n",
    "    plt.scatter(vertices[:, 0], vertices[:, 1], marker='o', c='black', edgecolors='None', s=0.2)\n",
    "    plt.title('Scatter Plot of Vertices')\n",
    "    plt.xlabel('X Coordinate')\n",
    "    plt.ylabel('Y Coordinate')\n",
    "    # plt.grid(True)\n",
    "    plt.gca().set_aspect('equal', adjustable='box')\n",
    "    plt.show()\n"
   ]
  },
  {
   "cell_type": "code",
   "execution_count": 14,
   "metadata": {},
   "outputs": [
    {
     "name": "stdout",
     "output_type": "stream",
     "text": [
      "aegaeis-ref.graph.fmi 551588\n",
      "medi-ref.graph.fmi 826150\n",
      "planet-shrunk-vis.fmi 188269\n",
      "pata-ref.graph.fmi 2303943\n",
      "coastlines-mercator-ref.graph.fmi 37422049\n",
      "aegaeis-ref-visibility.fmi 551588\n",
      "pata-ref-visibility.fmi 2303943\n",
      "medi-ref-visibility.fmi 826150\n"
     ]
    }
   ],
   "source": [
    "names = list()\n",
    "\n",
    "for f_name in os.listdir(\"graphs\"):\n",
    "    f_path = \"graphs/\" + f_name\n",
    "    vertices = get_vertices(f_path)\n",
    "    print(f_name, len(vertices))\n",
    "    # make_plot(vertices)"
   ]
  },
  {
   "cell_type": "code",
   "execution_count": 10,
   "metadata": {},
   "outputs": [
    {
     "ename": "NameError",
     "evalue": "name 'skip_rows' is not defined",
     "output_type": "error",
     "traceback": [
      "\u001b[0;31m---------------------------------------------------------------------------\u001b[0m",
      "\u001b[0;31mNameError\u001b[0m                                 Traceback (most recent call last)",
      "Cell \u001b[0;32mIn[10], line 1\u001b[0m\n\u001b[0;32m----> 1\u001b[0m np\u001b[38;5;241m.\u001b[39mloadtxt(f_path, skiprows\u001b[38;5;241m=\u001b[39m\u001b[43mskip_rows\u001b[49m\u001b[38;5;241m+\u001b[39mnum_vertices, max_rows\u001b[38;5;241m=\u001b[39mnum_edges, usecols\u001b[38;5;241m=\u001b[39m[\u001b[38;5;241m0\u001b[39m, \u001b[38;5;241m1\u001b[39m, \u001b[38;5;241m2\u001b[39m])\n",
      "\u001b[0;31mNameError\u001b[0m: name 'skip_rows' is not defined"
     ]
    }
   ],
   "source": [
    "np.loadtxt(f_name, skiprows=skip_rows+num_vertices, max_rows=num_edges, usecols=[0, 1, 2])"
   ]
  },
  {
   "cell_type": "code",
   "execution_count": null,
   "metadata": {},
   "outputs": [],
   "source": [
    "cvs = ds.Canvas(plot_width=850, plot_height=500)\n",
    "agg = cvs.points(vertices, 'x', 'y')\n",
    "img = ds.tf.shade(agg)"
   ]
  }
 ],
 "metadata": {
  "kernelspec": {
   "display_name": ".venv",
   "language": "python",
   "name": "python3"
  },
  "language_info": {
   "codemirror_mode": {
    "name": "ipython",
    "version": 3
   },
   "file_extension": ".py",
   "mimetype": "text/x-python",
   "name": "python",
   "nbconvert_exporter": "python",
   "pygments_lexer": "ipython3",
   "version": "3.12.2"
  }
 },
 "nbformat": 4,
 "nbformat_minor": 2
}
